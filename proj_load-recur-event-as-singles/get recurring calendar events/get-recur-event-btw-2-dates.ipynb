{
 "cells": [
  {
   "cell_type": "code",
   "execution_count": 19,
   "metadata": {},
   "outputs": [],
   "source": [
    "# hard coded path (TODO: see how it can be NOT hard coded)\n",
    "pTodoistToken = '/Volumes/GoogleDrive/My Drive/Code_PGDrive/api_todoist/todoist_api_token.txt'\n",
    "pGoogleSheet = '/Volumes/GoogleDrive/My Drive/Code_PGDrive/api_google/credentials.json'"
   ]
  },
  {
   "cell_type": "code",
   "execution_count": 20,
   "metadata": {},
   "outputs": [],
   "source": [
    "# import libaries\n",
    "import os\n",
    "import numpy as np\n",
    "import pandas as pd\n",
    "from todoist_api_python.api import TodoistAPI\n",
    "import datetime\n",
    "import gspread"
   ]
  },
  {
   "cell_type": "code",
   "execution_count": 90,
   "metadata": {},
   "outputs": [],
   "source": [
    "# get recurrent event titles from google sheet\n",
    "sa = gspread.service_account(filename=pGoogleSheet)\n",
    "sh = sa.open_by_key('1E-6rLfbm18oCs5Iha5ticZshvlzG2RVOg_FSWJS8iOQ')\n",
    "wks = sh.worksheet(\"Sheet1\")\n",
    "dfwks = pd.DataFrame(wks.get_all_records())\n",
    "\n",
    "# clean\n",
    "# remove brackets\n",
    "df = dfwks.title.str.rpartition(sep=' (', expand=True)\n",
    "dfwks['title_clean'] = df.loc[:,0].values"
   ]
  },
  {
   "cell_type": "code",
   "execution_count": 91,
   "metadata": {},
   "outputs": [
    {
     "data": {
      "text/plain": [
       "'☀️ Morning Routine'"
      ]
     },
     "execution_count": 91,
     "metadata": {},
     "output_type": "execute_result"
    }
   ],
   "source": [
    "i = 0\n",
    "# create single tasks from the spread sheet of the same name but without the front emoji\n",
    "# content: from \"☀️ Morning Routine (81)\" to \"Morning Routine [60m]\" \n",
    "# TODO: remove emoji\n",
    "title = dfwks.title_clean[i]\n",
    "title\n",
    "\n",
    "# start date and time\n",
    "# label corresponds to the color code (need to create color label corresponds)\n",
    "# priority = 4\n",
    "# send to todoist for creating new task"
   ]
  },
  {
   "cell_type": "code",
   "execution_count": 4,
   "metadata": {},
   "outputs": [],
   "source": [
    "# log on to todoist\n",
    "with open (pTodoistToken) as f:\n",
    "    todoist_api = f.readlines()\n",
    "    todoist_api = todoist_api[0]"
   ]
  },
  {
   "cell_type": "code",
   "execution_count": null,
   "metadata": {},
   "outputs": [],
   "source": []
  },
  {
   "cell_type": "markdown",
   "metadata": {},
   "source": [
    "Handling recurrent tasks move to next recurrent event\n"
   ]
  },
  {
   "cell_type": "code",
   "execution_count": 50,
   "metadata": {},
   "outputs": [],
   "source": [
    "# get a recurrent task to see the values\n",
    "api = TodoistAPI(todoist_api)\n",
    "try:\n",
    "    todoistTasks = api.get_tasks()\n",
    "except Exception as error:\n",
    "    print(error)\n",
    "# put in dictionaries\n",
    "c = []\n",
    "todoId = []\n",
    "ind = []\n",
    "tskTitleId = {}\n",
    "tskIdInd = {}\n",
    "for i in range(len(todoistTasks)):\n",
    "    c.append(todoistTasks[i].content)\n",
    "    todoId.append(todoistTasks[i].id)\n",
    "    ind.append(i)\n",
    "    tskTitleId[todoistTasks[i].content] = todoistTasks[i].id\n",
    "    tskIdInd[todoistTasks[i].id] = i\n",
    "dfTodoRef = pd.DataFrame()\n",
    "dfTodoRef['ind'] = ind\n",
    "dfTodoRef['id'] = todoId\n",
    "dfTodoRef['content'] = c\n"
   ]
  },
  {
   "cell_type": "code",
   "execution_count": 59,
   "metadata": {},
   "outputs": [
    {
     "name": "stdout",
     "output_type": "stream",
     "text": [
      "VALIDATED: only 1 task with this name: ☀️ Morning Routine (81)\n"
     ]
    }
   ],
   "source": [
    "# check if more than one task with the same name\n",
    "tskName = dfwks.title[0]\n",
    "if sum(dfTodoRef['content'] == tskName) != 1:\n",
    "    raise Exception(f'ERROR: more than 1 task with the same name: {tskName}')\n",
    "else:\n",
    "    print(f'VALIDATED: only 1 task with this name: {tskName}')\n"
   ]
  },
  {
   "cell_type": "code",
   "execution_count": null,
   "metadata": {},
   "outputs": [],
   "source": []
  },
  {
   "cell_type": "code",
   "execution_count": null,
   "metadata": {},
   "outputs": [],
   "source": [
    "# eventTitle = dfwks.title[0]\n",
    "taskinfo = todoistTasks[tskIdInd[tskTitleId[dfwks.title[0]]]]\n",
    "taskinfo"
   ]
  }
 ],
 "metadata": {
  "kernelspec": {
   "display_name": "Python 3.10.4 ('Todoist')",
   "language": "python",
   "name": "python3"
  },
  "language_info": {
   "codemirror_mode": {
    "name": "ipython",
    "version": 3
   },
   "file_extension": ".py",
   "mimetype": "text/x-python",
   "name": "python",
   "nbconvert_exporter": "python",
   "pygments_lexer": "ipython3",
   "version": "3.10.4"
  },
  "orig_nbformat": 4,
  "vscode": {
   "interpreter": {
    "hash": "f3433216a67fc827b02982155d829cc9aa50b418113a1611aab43a491120dcfa"
   }
  }
 },
 "nbformat": 4,
 "nbformat_minor": 2
}
