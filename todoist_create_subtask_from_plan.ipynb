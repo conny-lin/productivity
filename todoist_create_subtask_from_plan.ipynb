{
 "cells": [
  {
   "cell_type": "code",
   "execution_count": 42,
   "metadata": {},
   "outputs": [],
   "source": [
    "# import libraries\n",
    "import gspread\n",
    "import os\n",
    "import pandas as pd\n",
    "import numpy as np\n",
    "from todoist_api_python.api import TodoistAPI\n",
    "import datetime as dt"
   ]
  },
  {
   "cell_type": "code",
   "execution_count": 24,
   "metadata": {},
   "outputs": [],
   "source": [
    "# -- paths & file name settings --\n",
    "# code home folder\n",
    "pCode = '/Volumes/GoogleDrive/My Drive/Code'\n",
    "# google credentials\n",
    "pCredential_google = os.path.join(pCode, 'google_api','credentials.json')\n",
    "# todoist credentials\n",
    "pCredential_todoist = os.path.join(pCode, 'todoist','todoist_api_token.txt')\n",
    "# todoist sheet\n",
    "folder_id = '1Dl2nTvkOVYXdV6LBBgL0lLSVQO_Z85c5'\n",
    "sheet_filename = 'todoist_subtask_planner'\n",
    "sheet_id = '1rr-OtLlfabI9Mgja2sk-nwDCtjvwTskkuxmQPiIB8RE'"
   ]
  },
  {
   "cell_type": "code",
   "execution_count": 55,
   "metadata": {},
   "outputs": [],
   "source": [
    "# connect to services\n",
    "sa = gspread.service_account(filename = pCredential_google)\n",
    "# open sheet\n",
    "sh = sa.open_by_key(sheet_id)"
   ]
  },
  {
   "cell_type": "code",
   "execution_count": 57,
   "metadata": {},
   "outputs": [
    {
     "data": {
      "text/plain": [
       "'Event123'"
      ]
     },
     "execution_count": 57,
     "metadata": {},
     "output_type": "execute_result"
    }
   ],
   "source": [
    "# -- get parent task content -- \n",
    "wks = sh.worksheet(\"parent_task\") # go to worksheet\n",
    "content_parent = wks.acell('B1').value\n",
    "content_parent"
   ]
  },
  {
   "cell_type": "code",
   "execution_count": 30,
   "metadata": {},
   "outputs": [],
   "source": [
    "# -- get todoist parent task info --\n",
    "# connect todoist api\n",
    "with open (pCredential_todoist) as f:\n",
    "    todoist_api = f.readlines()\n",
    "    todoist_api = todoist_api[0]\n",
    "\n",
    "# get task dictionary by name\n",
    "api = TodoistAPI(todoist_api)\n",
    "try:\n",
    "    todoistpull = api.get_tasks()\n",
    "except Exception as error:\n",
    "    print(error)\n",
    "\n",
    "# put in dictionaries\n",
    "task_dict = {}\n",
    "for i in range(len(todoistpull)):\n",
    "    task_dict[todoistpull[i].content] = todoistpull[i].id\n",
    "\n",
    "# get parent id\n",
    "id_parent = task_dict[content_parent]\n",
    "\n",
    "# get parent task info\n",
    "task_parent = api.get_task(task_id=id_parent)\n",
    "\n",
    "# get date and time of parent task\n",
    "datetime_parent = task_parent.due.datetime\n",
    "datetime_parent = dt.datetime.strptime(datetime_parent, '%Y-%m-%dT%H:%M:%S')"
   ]
  },
  {
   "cell_type": "code",
   "execution_count": 83,
   "metadata": {},
   "outputs": [],
   "source": [
    "# -- get subtasks info --\n",
    "wks2 = sh.worksheet(\"subtask\") # go to worksheet\n",
    "df = pd.DataFrame(wks2.get_all_records())"
   ]
  },
  {
   "cell_type": "code",
   "execution_count": 84,
   "metadata": {},
   "outputs": [],
   "source": [
    "# -- set up subtasks attributes -- \n",
    "df['datetime_parent'] = datetime_parent \n",
    "# get date off set\n",
    "df['due_date'] = df.datetime_parent + pd.to_timedelta(df.days_from_parent, unit='D')\n"
   ]
  },
  {
   "cell_type": "code",
   "execution_count": 100,
   "metadata": {},
   "outputs": [],
   "source": [
    "# due date time\n",
    "df['due_datetime'] = ''\n",
    "for t,i in zip(df.time_from_parent, range(len(df.time_from_parent))):\n",
    "    if isinstance(t, int):\n",
    "        df.loc[i, 'due_datetime'] = df.due_date[i] + pd.to_timedelta(t, unit='m')\n"
   ]
  },
  {
   "cell_type": "code",
   "execution_count": 105,
   "metadata": {},
   "outputs": [
    {
     "ename": "AttributeError",
     "evalue": "'str' object has no attribute 'values'",
     "output_type": "error",
     "traceback": [
      "\u001b[0;31m---------------------------------------------------------------------------\u001b[0m",
      "\u001b[0;31mAttributeError\u001b[0m                            Traceback (most recent call last)",
      "\u001b[1;32m/Volumes/GoogleDrive/My Drive/Code/productivity/todoist_create_subtask_from_plan.ipynb Cell 9\u001b[0m in \u001b[0;36m<cell line: 3>\u001b[0;34m()\u001b[0m\n\u001b[1;32m      <a href='vscode-notebook-cell:/Volumes/GoogleDrive/My%20Drive/Code/productivity/todoist_create_subtask_from_plan.ipynb#ch0000018?line=0'>1</a>\u001b[0m \u001b[39m# build tasks content\u001b[39;00m\n\u001b[1;32m      <a href='vscode-notebook-cell:/Volumes/GoogleDrive/My%20Drive/Code/productivity/todoist_create_subtask_from_plan.ipynb#ch0000018?line=1'>2</a>\u001b[0m i \u001b[39m=\u001b[39m \u001b[39m0\u001b[39m\n\u001b[0;32m----> <a href='vscode-notebook-cell:/Volumes/GoogleDrive/My%20Drive/Code/productivity/todoist_create_subtask_from_plan.ipynb#ch0000018?line=2'>3</a>\u001b[0m pd\u001b[39m.\u001b[39mSeries([df\u001b[39m.\u001b[39;49mtask[i]\u001b[39m.\u001b[39;49mvalues()])\n",
      "\u001b[0;31mAttributeError\u001b[0m: 'str' object has no attribute 'values'"
     ]
    }
   ],
   "source": [
    "# STARTS HERE: build tasks content\n",
    "i = 0\n",
    "pd.Series([df.task[i]])\n"
   ]
  },
  {
   "cell_type": "code",
   "execution_count": 101,
   "metadata": {},
   "outputs": [],
   "source": [
    "# concatenate subtask content to add parent event title\n"
   ]
  },
  {
   "cell_type": "code",
   "execution_count": 102,
   "metadata": {},
   "outputs": [
    {
     "data": {
      "text/html": [
       "<div>\n",
       "<style scoped>\n",
       "    .dataframe tbody tr th:only-of-type {\n",
       "        vertical-align: middle;\n",
       "    }\n",
       "\n",
       "    .dataframe tbody tr th {\n",
       "        vertical-align: top;\n",
       "    }\n",
       "\n",
       "    .dataframe thead th {\n",
       "        text-align: right;\n",
       "    }\n",
       "</style>\n",
       "<table border=\"1\" class=\"dataframe\">\n",
       "  <thead>\n",
       "    <tr style=\"text-align: right;\">\n",
       "      <th></th>\n",
       "      <th>task</th>\n",
       "      <th>days_from_parent</th>\n",
       "      <th>time_from_parent</th>\n",
       "      <th>duration</th>\n",
       "      <th>label</th>\n",
       "      <th>priority</th>\n",
       "      <th>datetime_parent</th>\n",
       "      <th>due_date</th>\n",
       "      <th>due_datetime</th>\n",
       "    </tr>\n",
       "  </thead>\n",
       "  <tbody>\n",
       "    <tr>\n",
       "      <th>0</th>\n",
       "      <td>prepare event</td>\n",
       "      <td>0</td>\n",
       "      <td>-60</td>\n",
       "      <td>60</td>\n",
       "      <td>_Computer</td>\n",
       "      <td>1</td>\n",
       "      <td>2022-08-07 17:00:00</td>\n",
       "      <td>2022-08-07 17:00:00</td>\n",
       "      <td>2022-08-07 16:00:00</td>\n",
       "    </tr>\n",
       "    <tr>\n",
       "      <th>1</th>\n",
       "      <td>minutes</td>\n",
       "      <td>0</td>\n",
       "      <td>60</td>\n",
       "      <td>15</td>\n",
       "      <td>_Computer, _Home</td>\n",
       "      <td>1</td>\n",
       "      <td>2022-08-07 17:00:00</td>\n",
       "      <td>2022-08-07 17:00:00</td>\n",
       "      <td>2022-08-07 18:00:00</td>\n",
       "    </tr>\n",
       "    <tr>\n",
       "      <th>2</th>\n",
       "      <td>send agenda</td>\n",
       "      <td>3</td>\n",
       "      <td></td>\n",
       "      <td></td>\n",
       "      <td>_Computer</td>\n",
       "      <td>3</td>\n",
       "      <td>2022-08-07 17:00:00</td>\n",
       "      <td>2022-08-10 17:00:00</td>\n",
       "      <td></td>\n",
       "    </tr>\n",
       "    <tr>\n",
       "      <th>3</th>\n",
       "      <td>remind people</td>\n",
       "      <td>2</td>\n",
       "      <td>0</td>\n",
       "      <td>15</td>\n",
       "      <td></td>\n",
       "      <td>2</td>\n",
       "      <td>2022-08-07 17:00:00</td>\n",
       "      <td>2022-08-09 17:00:00</td>\n",
       "      <td>2022-08-09 17:00:00</td>\n",
       "    </tr>\n",
       "  </tbody>\n",
       "</table>\n",
       "</div>"
      ],
      "text/plain": [
       "            task  days_from_parent time_from_parent duration  \\\n",
       "0  prepare event                 0              -60       60   \n",
       "1        minutes                 0               60       15   \n",
       "2    send agenda                 3                             \n",
       "3  remind people                 2                0       15   \n",
       "\n",
       "              label  priority     datetime_parent            due_date  \\\n",
       "0         _Computer         1 2022-08-07 17:00:00 2022-08-07 17:00:00   \n",
       "1  _Computer, _Home         1 2022-08-07 17:00:00 2022-08-07 17:00:00   \n",
       "2         _Computer         3 2022-08-07 17:00:00 2022-08-10 17:00:00   \n",
       "3                           2 2022-08-07 17:00:00 2022-08-09 17:00:00   \n",
       "\n",
       "          due_datetime  \n",
       "0  2022-08-07 16:00:00  \n",
       "1  2022-08-07 18:00:00  \n",
       "2                       \n",
       "3  2022-08-09 17:00:00  "
      ]
     },
     "execution_count": 102,
     "metadata": {},
     "output_type": "execute_result"
    }
   ],
   "source": [
    "df"
   ]
  },
  {
   "cell_type": "code",
   "execution_count": null,
   "metadata": {},
   "outputs": [],
   "source": [
    "# upload subtasks"
   ]
  }
 ],
 "metadata": {
  "kernelspec": {
   "display_name": "Python 3.10.4 ('Todoist')",
   "language": "python",
   "name": "python3"
  },
  "language_info": {
   "codemirror_mode": {
    "name": "ipython",
    "version": 3
   },
   "file_extension": ".py",
   "mimetype": "text/x-python",
   "name": "python",
   "nbconvert_exporter": "python",
   "pygments_lexer": "ipython3",
   "version": "3.10.4"
  },
  "orig_nbformat": 4,
  "vscode": {
   "interpreter": {
    "hash": "f3433216a67fc827b02982155d829cc9aa50b418113a1611aab43a491120dcfa"
   }
  }
 },
 "nbformat": 4,
 "nbformat_minor": 2
}
